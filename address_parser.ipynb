{
 "cells": [
  {
   "cell_type": "code",
   "execution_count": 42,
   "metadata": {},
   "outputs": [],
   "source": [
    "import numpy as np \n",
    "import pandas as pd \n",
    "import re "
   ]
  },
  {
   "cell_type": "code",
   "execution_count": 107,
   "metadata": {},
   "outputs": [],
   "source": [
    "import spacy \n",
    "from spacy import displacy\n",
    "nlp = spacy.load('en_core_web_sm')"
   ]
  },
  {
   "cell_type": "markdown",
   "metadata": {},
   "source": [
    "Import and Clean Data"
   ]
  },
  {
   "cell_type": "code",
   "execution_count": 23,
   "metadata": {},
   "outputs": [
    {
     "data": {
      "text/plain": [
       "0      19 ST ANDREW ST, BULRINGTON, VT, 05401,, Unite...\n",
       "1      2574 EAST 23RD STREE, CHATTANOOGA, TN 37404, U...\n",
       "2      5931 W ANGELA RD, MEMPHIS, TN 38120, United St...\n",
       "3      3812 MYERS STREET, GREENEVILLE, TN 37743, Unit...\n",
       "4      HWY 33 BY-PASS BOX, DYERSBURG, TN 38024, Unite...\n",
       "                             ...                        \n",
       "115    4520 Mount Olive Highway, Bldg 5, Ste 3321,,,7...\n",
       "116    202 Sleepy Hollow Pkwy Bldg 2101 Ste 201,ATHEN...\n",
       "117    Berger Bldg 6 Hamlin Ln Dept RB08,MIDDLE ISLAN...\n",
       "118    5524 Elmore Ave Bldg 266,PHILADELPHIA,PA,19146...\n",
       "119    1172 Hudson Way Pl Bldg 3 Ste 530,LAKE OSWEGO,...\n",
       "Name: Address, Length: 120, dtype: object"
      ]
     },
     "execution_count": 23,
     "metadata": {},
     "output_type": "execute_result"
    }
   ],
   "source": [
    "data = pd.read_csv('./data/us-train-dataset.csv')\n",
    "addresses = data.iloc[:, 0]\n",
    "addresses"
   ]
  },
  {
   "cell_type": "code",
   "execution_count": 25,
   "metadata": {},
   "outputs": [
    {
     "data": {
      "text/plain": [
       "'19 ST ANDREW ST, BULRINGTON, VT, 05401,, United States'"
      ]
     },
     "execution_count": 25,
     "metadata": {},
     "output_type": "execute_result"
    }
   ],
   "source": [
    "addresses[0]"
   ]
  },
  {
   "cell_type": "code",
   "execution_count": 79,
   "metadata": {},
   "outputs": [],
   "source": [
    "def clean_address(address):\n",
    "    new_address = re.sub(r'(\\,{2,})', ',', address)\n",
    "    new_address = re.sub(r'(\\,)(?!\\s+)', ', ', new_address)\n",
    "    new_address = re.sub(r'(\\s+)(-)(\\s+)', '-', new_address)\n",
    "    new_address = re.sub(r'\\\\n+', ', ', new_address)\n",
    "    return new_address"
   ]
  },
  {
   "cell_type": "code",
   "execution_count": 84,
   "metadata": {},
   "outputs": [
    {
     "data": {
      "text/plain": [
       "'028 Birchwood Street-5210, HOUSTON, TX, 77002, US'"
      ]
     },
     "execution_count": 84,
     "metadata": {},
     "output_type": "execute_result"
    }
   ],
   "source": [
    "clean_address('028 Birchwood Street - 5210, HOUSTON, TX, 77002, US')"
   ]
  },
  {
   "cell_type": "code",
   "execution_count": 85,
   "metadata": {},
   "outputs": [],
   "source": [
    "clean_addresses = [clean_address(address) for address in addresses]"
   ]
  },
  {
   "cell_type": "code",
   "execution_count": 98,
   "metadata": {},
   "outputs": [],
   "source": [
    "data['Address'] = clean_addresses"
   ]
  },
  {
   "cell_type": "code",
   "execution_count": 103,
   "metadata": {},
   "outputs": [
    {
     "data": {
      "text/plain": [
       "Address            19 ST ANDREW ST, BULRINGTON, VT, 05401, United...\n",
       "Building_Name                                                    NaN\n",
       "Building_Number                                                 19.0\n",
       "City                                                      BULRINGTON\n",
       "Recipient                                                        NaN\n",
       "Street_Name                                             ST ANDREW ST\n",
       "Zip_Code                                                       05401\n",
       "State                                                             VT\n",
       "Country                                                United States\n",
       "Name: 0, dtype: object"
      ]
     },
     "execution_count": 103,
     "metadata": {},
     "output_type": "execute_result"
    }
   ],
   "source": [
    "data.iloc[0, :]"
   ]
  },
  {
   "cell_type": "code",
   "execution_count": 104,
   "metadata": {},
   "outputs": [
    {
     "data": {
      "text/html": [
       "<div>\n",
       "<style scoped>\n",
       "    .dataframe tbody tr th:only-of-type {\n",
       "        vertical-align: middle;\n",
       "    }\n",
       "\n",
       "    .dataframe tbody tr th {\n",
       "        vertical-align: top;\n",
       "    }\n",
       "\n",
       "    .dataframe thead th {\n",
       "        text-align: right;\n",
       "    }\n",
       "</style>\n",
       "<table border=\"1\" class=\"dataframe\">\n",
       "  <thead>\n",
       "    <tr style=\"text-align: right;\">\n",
       "      <th></th>\n",
       "      <th>ADDRESS</th>\n",
       "      <th>BUILDING_NAME</th>\n",
       "      <th>BUILDING_NUMBER</th>\n",
       "      <th>CITY</th>\n",
       "      <th>RECIPIENT</th>\n",
       "      <th>STREET_NAME</th>\n",
       "      <th>ZIP_CODE</th>\n",
       "      <th>STATE</th>\n",
       "      <th>COUNTRY</th>\n",
       "    </tr>\n",
       "  </thead>\n",
       "  <tbody>\n",
       "    <tr>\n",
       "      <th>0</th>\n",
       "      <td>19 ST ANDREW ST, BULRINGTON, VT, 05401, United...</td>\n",
       "      <td>NaN</td>\n",
       "      <td>19.0</td>\n",
       "      <td>BULRINGTON</td>\n",
       "      <td>NaN</td>\n",
       "      <td>ST ANDREW ST</td>\n",
       "      <td>05401</td>\n",
       "      <td>VT</td>\n",
       "      <td>United States</td>\n",
       "    </tr>\n",
       "    <tr>\n",
       "      <th>1</th>\n",
       "      <td>2574 EAST 23RD STREE, CHATTANOOGA, TN 37404, U...</td>\n",
       "      <td>NaN</td>\n",
       "      <td>2574.0</td>\n",
       "      <td>CHATTANOOGA</td>\n",
       "      <td>NaN</td>\n",
       "      <td>EAST 23RD STREE</td>\n",
       "      <td>37404</td>\n",
       "      <td>TN</td>\n",
       "      <td>United States</td>\n",
       "    </tr>\n",
       "    <tr>\n",
       "      <th>2</th>\n",
       "      <td>5931 W ANGELA RD, MEMPHIS, TN 38120, United St...</td>\n",
       "      <td>NaN</td>\n",
       "      <td>5931.0</td>\n",
       "      <td>MEMPHIS</td>\n",
       "      <td>NaN</td>\n",
       "      <td>W ANGELA RD</td>\n",
       "      <td>38120</td>\n",
       "      <td>TN</td>\n",
       "      <td>United States</td>\n",
       "    </tr>\n",
       "    <tr>\n",
       "      <th>3</th>\n",
       "      <td>3812 MYERS STREET, GREENEVILLE, TN 37743, Unit...</td>\n",
       "      <td>NaN</td>\n",
       "      <td>3812.0</td>\n",
       "      <td>GREENEVILLE</td>\n",
       "      <td>NaN</td>\n",
       "      <td>MYERS STREET</td>\n",
       "      <td>37743</td>\n",
       "      <td>TN</td>\n",
       "      <td>United States</td>\n",
       "    </tr>\n",
       "    <tr>\n",
       "      <th>4</th>\n",
       "      <td>HWY 33 BY-PASS BOX, DYERSBURG, TN 38024, Unite...</td>\n",
       "      <td>NaN</td>\n",
       "      <td>NaN</td>\n",
       "      <td>DYERSBURG</td>\n",
       "      <td>NaN</td>\n",
       "      <td>HWY 33 BY-PASS</td>\n",
       "      <td>38024</td>\n",
       "      <td>TN</td>\n",
       "      <td>United States</td>\n",
       "    </tr>\n",
       "    <tr>\n",
       "      <th>...</th>\n",
       "      <td>...</td>\n",
       "      <td>...</td>\n",
       "      <td>...</td>\n",
       "      <td>...</td>\n",
       "      <td>...</td>\n",
       "      <td>...</td>\n",
       "      <td>...</td>\n",
       "      <td>...</td>\n",
       "      <td>...</td>\n",
       "    </tr>\n",
       "    <tr>\n",
       "      <th>115</th>\n",
       "      <td>4520 Mount Olive Highway, Bldg 5, Ste 3321, 78...</td>\n",
       "      <td>Bldg 5</td>\n",
       "      <td>4520.0</td>\n",
       "      <td>NaN</td>\n",
       "      <td>NaN</td>\n",
       "      <td>Mount Olive Highway</td>\n",
       "      <td>78759</td>\n",
       "      <td>NaN</td>\n",
       "      <td>US</td>\n",
       "    </tr>\n",
       "    <tr>\n",
       "      <th>116</th>\n",
       "      <td>202 Sleepy Hollow Pkwy Bldg 2101 Ste 201, ATHE...</td>\n",
       "      <td>Bldg 2101</td>\n",
       "      <td>202.0</td>\n",
       "      <td>ATHENS</td>\n",
       "      <td>NaN</td>\n",
       "      <td>Sleepy Hollow Pkwy</td>\n",
       "      <td>30606-3347</td>\n",
       "      <td>GA</td>\n",
       "      <td>US</td>\n",
       "    </tr>\n",
       "    <tr>\n",
       "      <th>117</th>\n",
       "      <td>Berger Bldg 6 Hamlin Ln Dept RB08, MIDDLE ISLA...</td>\n",
       "      <td>Berger Bldg</td>\n",
       "      <td>6.0</td>\n",
       "      <td>MIDDLE ISLAND</td>\n",
       "      <td>NaN</td>\n",
       "      <td>Hamlin Ln</td>\n",
       "      <td>11953-0102</td>\n",
       "      <td>NY</td>\n",
       "      <td>US</td>\n",
       "    </tr>\n",
       "    <tr>\n",
       "      <th>118</th>\n",
       "      <td>5524 Elmore Ave Bldg 266, PHILADELPHIA, PA, 19...</td>\n",
       "      <td>Bldg 266</td>\n",
       "      <td>5524.0</td>\n",
       "      <td>PHILADELPHIA</td>\n",
       "      <td>NaN</td>\n",
       "      <td>Elmore Ave</td>\n",
       "      <td>19146-2701</td>\n",
       "      <td>PA</td>\n",
       "      <td>US</td>\n",
       "    </tr>\n",
       "    <tr>\n",
       "      <th>119</th>\n",
       "      <td>1172 Hudson Way Pl Bldg 3 Ste 530, LAKE OSWEGO...</td>\n",
       "      <td>Bldg 3</td>\n",
       "      <td>1172.0</td>\n",
       "      <td>LAKE OSWEGO</td>\n",
       "      <td>NaN</td>\n",
       "      <td>Hudson Way Pl</td>\n",
       "      <td>97035-5545</td>\n",
       "      <td>OR</td>\n",
       "      <td>US</td>\n",
       "    </tr>\n",
       "  </tbody>\n",
       "</table>\n",
       "<p>120 rows × 9 columns</p>\n",
       "</div>"
      ],
      "text/plain": [
       "                                               ADDRESS BUILDING_NAME  \\\n",
       "0    19 ST ANDREW ST, BULRINGTON, VT, 05401, United...           NaN   \n",
       "1    2574 EAST 23RD STREE, CHATTANOOGA, TN 37404, U...           NaN   \n",
       "2    5931 W ANGELA RD, MEMPHIS, TN 38120, United St...           NaN   \n",
       "3    3812 MYERS STREET, GREENEVILLE, TN 37743, Unit...           NaN   \n",
       "4    HWY 33 BY-PASS BOX, DYERSBURG, TN 38024, Unite...           NaN   \n",
       "..                                                 ...           ...   \n",
       "115  4520 Mount Olive Highway, Bldg 5, Ste 3321, 78...        Bldg 5   \n",
       "116  202 Sleepy Hollow Pkwy Bldg 2101 Ste 201, ATHE...     Bldg 2101   \n",
       "117  Berger Bldg 6 Hamlin Ln Dept RB08, MIDDLE ISLA...   Berger Bldg   \n",
       "118  5524 Elmore Ave Bldg 266, PHILADELPHIA, PA, 19...      Bldg 266   \n",
       "119  1172 Hudson Way Pl Bldg 3 Ste 530, LAKE OSWEGO...        Bldg 3   \n",
       "\n",
       "     BUILDING_NUMBER           CITY RECIPIENT          STREET_NAME  \\\n",
       "0               19.0     BULRINGTON       NaN         ST ANDREW ST   \n",
       "1             2574.0    CHATTANOOGA       NaN      EAST 23RD STREE   \n",
       "2             5931.0        MEMPHIS       NaN          W ANGELA RD   \n",
       "3             3812.0    GREENEVILLE       NaN         MYERS STREET   \n",
       "4                NaN      DYERSBURG       NaN       HWY 33 BY-PASS   \n",
       "..               ...            ...       ...                  ...   \n",
       "115           4520.0            NaN       NaN  Mount Olive Highway   \n",
       "116            202.0         ATHENS       NaN   Sleepy Hollow Pkwy   \n",
       "117              6.0  MIDDLE ISLAND       NaN            Hamlin Ln   \n",
       "118           5524.0   PHILADELPHIA       NaN           Elmore Ave   \n",
       "119           1172.0    LAKE OSWEGO       NaN        Hudson Way Pl   \n",
       "\n",
       "       ZIP_CODE STATE        COUNTRY  \n",
       "0         05401    VT  United States  \n",
       "1         37404    TN  United States  \n",
       "2         38120    TN  United States  \n",
       "3         37743    TN  United States  \n",
       "4         38024    TN  United States  \n",
       "..          ...   ...            ...  \n",
       "115       78759   NaN             US  \n",
       "116  30606-3347    GA             US  \n",
       "117  11953-0102    NY             US  \n",
       "118  19146-2701    PA             US  \n",
       "119  97035-5545    OR             US  \n",
       "\n",
       "[120 rows x 9 columns]"
      ]
     },
     "execution_count": 104,
     "metadata": {},
     "output_type": "execute_result"
    }
   ],
   "source": [
    "data.rename(columns={'Address': 'ADDRESS', 'Building_Name': 'BUILDING_NAME', 'Building_Number': 'BUILDING_NUMBER', 'City': 'CITY', 'Recipient': 'RECIPIENT', 'Street_Name': 'STREET_NAME', 'Zip_Code': 'ZIP_CODE', 'State': 'STATE', 'Country': 'COUNTRY'})"
   ]
  },
  {
   "cell_type": "code",
   "execution_count": null,
   "metadata": {},
   "outputs": [],
   "source": [
    "def get_address_spans(address=None, address_component=None, label=None):\n",
    "    if str(address_component) == 'nan':\n",
    "        pass\n",
    "    else: \n",
    "        "
   ]
  },
  {
   "cell_type": "code",
   "execution_count": 112,
   "metadata": {},
   "outputs": [
    {
     "data": {
      "text/html": [
       "<span class=\"tex2jax_ignore\"><div class=\"entities\" style=\"line-height: 2.5; direction: ltr\">\n",
       "<mark class=\"entity\" style=\"background: #e4e7d2; padding: 0.45em 0.6em; margin: 0 0.25em; line-height: 1; border-radius: 0.35em;\">\n",
       "    19\n",
       "    <span style=\"font-size: 0.8em; font-weight: bold; line-height: 1; border-radius: 0.35em; vertical-align: middle; margin-left: 0.5rem\">CARDINAL</span>\n",
       "</mark>\n",
       " ST ANDREW ST, \n",
       "<mark class=\"entity\" style=\"background: #feca74; padding: 0.45em 0.6em; margin: 0 0.25em; line-height: 1; border-radius: 0.35em;\">\n",
       "    BULRINGTON\n",
       "    <span style=\"font-size: 0.8em; font-weight: bold; line-height: 1; border-radius: 0.35em; vertical-align: middle; margin-left: 0.5rem\">GPE</span>\n",
       "</mark>\n",
       ", \n",
       "<mark class=\"entity\" style=\"background: #feca74; padding: 0.45em 0.6em; margin: 0 0.25em; line-height: 1; border-radius: 0.35em;\">\n",
       "    VT\n",
       "    <span style=\"font-size: 0.8em; font-weight: bold; line-height: 1; border-radius: 0.35em; vertical-align: middle; margin-left: 0.5rem\">GPE</span>\n",
       "</mark>\n",
       ", \n",
       "<mark class=\"entity\" style=\"background: #bfe1d9; padding: 0.45em 0.6em; margin: 0 0.25em; line-height: 1; border-radius: 0.35em;\">\n",
       "    05401\n",
       "    <span style=\"font-size: 0.8em; font-weight: bold; line-height: 1; border-radius: 0.35em; vertical-align: middle; margin-left: 0.5rem\">DATE</span>\n",
       "</mark>\n",
       ", \n",
       "<mark class=\"entity\" style=\"background: #feca74; padding: 0.45em 0.6em; margin: 0 0.25em; line-height: 1; border-radius: 0.35em;\">\n",
       "    United States\n",
       "    <span style=\"font-size: 0.8em; font-weight: bold; line-height: 1; border-radius: 0.35em; vertical-align: middle; margin-left: 0.5rem\">GPE</span>\n",
       "</mark>\n",
       "</div></span>"
      ],
      "text/plain": [
       "<IPython.core.display.HTML object>"
      ]
     },
     "metadata": {},
     "output_type": "display_data"
    }
   ],
   "source": [
    "displacy.render(doc, style='ent')"
   ]
  },
  {
   "cell_type": "code",
   "execution_count": null,
   "metadata": {},
   "outputs": [],
   "source": []
  }
 ],
 "metadata": {
  "kernelspec": {
   "display_name": "Python 3.11.3 ('nlp')",
   "language": "python",
   "name": "python3"
  },
  "language_info": {
   "codemirror_mode": {
    "name": "ipython",
    "version": 3
   },
   "file_extension": ".py",
   "mimetype": "text/x-python",
   "name": "python",
   "nbconvert_exporter": "python",
   "pygments_lexer": "ipython3",
   "version": "3.11.3"
  },
  "orig_nbformat": 4,
  "vscode": {
   "interpreter": {
    "hash": "95e93cf9e5c9fcd79f569a182818d4364223a21c49c7d9ccccb6264ca269ba77"
   }
  }
 },
 "nbformat": 4,
 "nbformat_minor": 2
}
